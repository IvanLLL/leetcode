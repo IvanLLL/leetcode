{
 "cells": [
  {
   "cell_type": "markdown",
   "metadata": {},
   "source": [
    "[Array - 03 Rotate Array](https://leetcode.com/explore/interview/card/top-interview-questions-easy/92/array/646/)\n",
    "\n",
    "## `Abstract:`\n",
    "Given an array, rotate the array to the right by k steps, where k is non-negative.\n",
    "看网站的例子。\n",
    "\n",
    "\n",
    "## `Solution:`\n",
    "#### 1. 考虑题目关键词\n",
    "   1. **`k`** is non negative, 所以可以不用考虑k<0的情况，但k=0需要考虑，看取值为0时是否有影响。\n",
    "\n",
    "#### 2. 相关知识点（不一定会在本题中直接用上，只是有联想）\n",
    "   1. del array[index]是各种数组删除操作中最高校的 \n",
    "    \n",
    "#### 3. 翻车点\n",
    "   1. 之前考虑该问题的时候，思路卡进了之前几道题的情形中。即，一直在想如何使用一个遍历该数组的循环解决问题，即操作次数为n。 实际上，该题只动数组的一部分，操作次数实际上还与k有关。所以，下次思考题目时，先不从代码的角度来想，而是从比较intuitive的方面来想应该如何操作，操作的次数由什么决定。\n",
    "   \n",
    "    "
   ]
  },
  {
   "cell_type": "code",
   "execution_count": 4,
   "metadata": {
    "collapsed": true
   },
   "outputs": [],
   "source": [
    "def rotate( nums, k):\n",
    "        \"\"\"\n",
    "        :type nums: List[int]\n",
    "        :type k: int\n",
    "        :rtype: void Do not return anything, modify nums in-place instead.\n",
    "        \"\"\"\n",
    "        if len(nums)<=1:\n",
    "            pass\n",
    "        else:\n",
    "            length = len(nums)\n",
    "            if k>length or k<length:\n",
    "                k = k%length\n",
    "                for i in range(length-k): \n",
    "                    tmp = nums[0] \n",
    "                    del nums[0] # del是各种数组删除操作中最高效的\n",
    "                    nums.append(tmp)\n",
    "    \n",
    "            else:pass    "
   ]
  },
  {
   "cell_type": "code",
   "execution_count": 8,
   "metadata": {},
   "outputs": [
    {
     "data": {
      "text/plain": [
       "[1, 2, 3]"
      ]
     },
     "execution_count": 8,
     "metadata": {},
     "output_type": "execute_result"
    }
   ],
   "source": [
    "nums = [1,2,3]\n",
    "rotate(nums, 0)\n",
    "nums"
   ]
  },
  {
   "cell_type": "code",
   "execution_count": null,
   "metadata": {
    "collapsed": true
   },
   "outputs": [],
   "source": []
  }
 ],
 "metadata": {
  "kernelspec": {
   "display_name": "Python 3",
   "language": "python",
   "name": "python3"
  },
  "language_info": {
   "codemirror_mode": {
    "name": "ipython",
    "version": 3
   },
   "file_extension": ".py",
   "mimetype": "text/x-python",
   "name": "python",
   "nbconvert_exporter": "python",
   "pygments_lexer": "ipython3",
   "version": "3.6.1"
  }
 },
 "nbformat": 4,
 "nbformat_minor": 2
}
