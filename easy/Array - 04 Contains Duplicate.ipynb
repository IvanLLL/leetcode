{
 "cells": [
  {
   "cell_type": "markdown",
   "metadata": {},
   "source": [
    "[Array - 04 Contains Duplicate](https://leetcode.com/explore/interview/card/top-interview-questions-easy/92/array/578/)\n",
    "\n",
    "## `Abstract:`\n",
    "Given an array of integers, find if the array contains any duplicates.\n",
    "\n",
    "Your function should return true if any value appears at least twice in the array, and it should return false if every element is distinct.\n",
    "\n",
    "\n",
    "## `Solution:`\n",
    "#### 1. 考虑题目关键词\n",
    "    \n",
    "#### 2. 相关知识点（不一定会在本题中直接用上，只是有联想）\n",
    "    1. 该题最简单的做法就是直接用set。\n",
    "    2. 奈秒（ns）：10-9秒； 微秒（µs）：10-6秒； 毫秒（ms）：10-3秒\n",
    "    3. 控制%timeit的循环次数， 如%timeit -n 5000\n",
    "#### 3. 翻车点\n",
    "   \n",
    "    "
   ]
  },
  {
   "cell_type": "code",
   "execution_count": 4,
   "metadata": {
    "collapsed": true
   },
   "outputs": [],
   "source": [
    "def containsDuplicate(nums):\n",
    "    \"\"\"\n",
    "    :type nums: List[int]\n",
    "    :rtype: bool\n",
    "    \"\"\"\n",
    "    set_ = set(nums)\n",
    "    if len(set_) != len(nums):\n",
    "        return True\n",
    "    else:\n",
    "        return False\n",
    "        "
   ]
  },
  {
   "cell_type": "code",
   "execution_count": 12,
   "metadata": {
    "collapsed": true
   },
   "outputs": [],
   "source": [
    "\n",
    "def set_method(nums):\n",
    "    set_ = set(nums)\n",
    "    if len(set_) != len(nums):\n",
    "        return True\n",
    "    else:\n",
    "        return False\n",
    "\n",
    "def set_add_method(nums):\n",
    "    set_ = set()\n",
    "    length = 0\n",
    "    for i in range(len(nums)):\n",
    "        set_.add(nums[i])\n",
    "        length+=1\n",
    "        if len(set_)!=length:\n",
    "            return True\n",
    "        else:\n",
    "            return False\n",
    "def seen_method(nums):\n",
    "        seen= set()\n",
    "        for i in nums:\n",
    "            if i not in seen:\n",
    "                seen.add(i)\n",
    "            else:\n",
    "                return True\n",
    "        return False        "
   ]
  },
  {
   "cell_type": "code",
   "execution_count": 13,
   "metadata": {},
   "outputs": [
    {
     "name": "stdout",
     "output_type": "stream",
     "text": [
      "The slowest run took 6.24 times longer than the fastest. This could mean that an intermediate result is being cached.\n",
      "1000000 loops, best of 3: 649 ns per loop\n",
      "The slowest run took 4.41 times longer than the fastest. This could mean that an intermediate result is being cached.\n",
      "1000000 loops, best of 3: 773 ns per loop\n",
      "1000000 loops, best of 3: 1.05 µs per loop\n"
     ]
    }
   ],
   "source": [
    "nums = [1,2,3,4,5,6,7,1,2,3,9,111,221]\n",
    "\n",
    "%timeit set_method(nums)\n",
    "%timeit set_add_method(nums)\n",
    "%timeit seen_method(nums)"
   ]
  },
  {
   "cell_type": "code",
   "execution_count": null,
   "metadata": {
    "collapsed": true
   },
   "outputs": [],
   "source": []
  }
 ],
 "metadata": {
  "kernelspec": {
   "display_name": "Python 3",
   "language": "python",
   "name": "python3"
  },
  "language_info": {
   "codemirror_mode": {
    "name": "ipython",
    "version": 3
   },
   "file_extension": ".py",
   "mimetype": "text/x-python",
   "name": "python",
   "nbconvert_exporter": "python",
   "pygments_lexer": "ipython3",
   "version": "3.6.1"
  }
 },
 "nbformat": 4,
 "nbformat_minor": 2
}
