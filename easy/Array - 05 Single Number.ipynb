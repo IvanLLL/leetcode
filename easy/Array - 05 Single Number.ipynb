{
 "cells": [
  {
   "cell_type": "markdown",
   "metadata": {},
   "source": [
    "[Array - 05 Single Number](https://leetcode.com/explore/interview/card/top-interview-questions-easy/92/array/549/)\n",
    "\n",
    "## `Abstract:`\n",
    "Given a non-empty array of integers, every element appears twice except for one. Find that single one.\n",
    "\n",
    "\n",
    "## `Solution:`\n",
    "#### 1. 考虑题目关键词\n",
    "    1. non-empty\n",
    "#### 2. 相关知识点（不一定会在本题中直接用上，只是有联想）\n",
    "    1. 考虑是空间还时间还是时间换空间。dict或者是defaultdict或者是set因为本质上有hash，所以时间效率上还是很高的，就是需要耗去空间\n",
    "#### 3. 翻车点\n",
    "   \n",
    "    "
   ]
  },
  {
   "cell_type": "code",
   "execution_count": 4,
   "metadata": {
    "collapsed": true
   },
   "outputs": [],
   "source": [
    "def singleNumber(self, nums):\n",
    "        \"\"\"\n",
    "        :type nums: List[int]\n",
    "        :rtype: int\n",
    "        \"\"\"\n",
    "        ## Accepted，这种方法改变了原nums，抑或是需要另外保存一次nums\n",
    "        ## 时间复杂度应该是O(n logn),空间复杂度O(1)；\n",
    "        dict = {}\n",
    "        for i in nums:\n",
    "            if(i not in dict):\n",
    "                dict[i] = 1\n",
    "            else:\n",
    "                dict[i] = 2\n",
    "        for value,freq in dict.items():\n",
    "            if(freq == 1):\n",
    "                return(value)\n",
    "            "
   ]
  },
  {
   "cell_type": "markdown",
   "metadata": {},
   "source": [
    "# 以下是几种方法的比较"
   ]
  },
  {
   "cell_type": "code",
   "execution_count": 11,
   "metadata": {
    "collapsed": true
   },
   "outputs": [],
   "source": [
    "def del_try_method(nums):\n",
    "    ## Accepted，这种方法改变了原nums，抑或是需要另外保存一次nums\n",
    "    ## 时间复杂度应该是O(n logn),空间复杂度O(1)\n",
    "    for i in range(len(nums)):\n",
    "        tmp = nums[0]\n",
    "        del nums[0]\n",
    "        try:\n",
    "            nums.remove(tmp)\n",
    "        except:\n",
    "            return tmp\n",
    "        \n",
    "        if len(nums)==0:\n",
    "            break\n",
    "        else:pass    \n",
    "\n",
    "def set_check_method(nums):\n",
    "    once = set()\n",
    "    twice = set()\n",
    "    for i in range(len(nums)):\n",
    "        if nums[i] in once:\n",
    "            twice.add(nums[i])\n",
    "            once.remove(nums[i])\n",
    "        else:\n",
    "            once.add(nums[i])\n",
    "    return once.pop()\n",
    "\n",
    "def dict_method(nums):\n",
    "    dict = {}\n",
    "    for i in nums:\n",
    "        if(i not in dict):\n",
    "            dict[i] = 1\n",
    "        else:\n",
    "            dict[i] = 2\n",
    "    #print(dict)\n",
    "    for value,freq in dict.items():\n",
    "        if(freq == 1):\n",
    "            return(value)"
   ]
  },
  {
   "cell_type": "code",
   "execution_count": 12,
   "metadata": {},
   "outputs": [
    {
     "name": "stdout",
     "output_type": "stream",
     "text": [
      "1000 loops, best of 3: 3.64 µs per loop\n",
      "1000 loops, best of 3: 434 ns per loop\n",
      "1000 loops, best of 3: 405 ns per loop\n"
     ]
    }
   ],
   "source": [
    "nums = [1,1,2,3,4,5,6,5,6,4,3]\n",
    "%timeit -n 1000 set_check_method(nums)\n",
    "%timeit -n 1000 del_try_method(nums)\n",
    "%timeit -n 1000 dict_method(nums)"
   ]
  },
  {
   "cell_type": "code",
   "execution_count": null,
   "metadata": {
    "collapsed": true
   },
   "outputs": [],
   "source": []
  }
 ],
 "metadata": {
  "kernelspec": {
   "display_name": "Python 3",
   "language": "python",
   "name": "python3"
  },
  "language_info": {
   "codemirror_mode": {
    "name": "ipython",
    "version": 3
   },
   "file_extension": ".py",
   "mimetype": "text/x-python",
   "name": "python",
   "nbconvert_exporter": "python",
   "pygments_lexer": "ipython3",
   "version": "3.6.1"
  }
 },
 "nbformat": 4,
 "nbformat_minor": 2
}
