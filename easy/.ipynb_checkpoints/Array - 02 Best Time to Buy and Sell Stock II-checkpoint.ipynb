{
 "cells": [
  {
   "cell_type": "markdown",
   "metadata": {},
   "source": [
    "[Array - 01 Best Time to Buy and Sell Stock II](https://leetcode.com/explore/interview/card/top-interview-questions-easy/92/array/564/)\n",
    "\n",
    "## `Abstract:`\n",
    "Given a sorted array nums, remove the duplicates in-place such that each element appear only once and return the new length.\n",
    "\n",
    "Do not allocate extra space for another array, you must do this by modifying the input array in-place with O(1) extra memory.\n",
    "\n",
    "## `Solution:`\n",
    "#### 1. 考虑题目关键词\n",
    "    1. `sorted array`：相同的数字左右相邻（解题核心）\n",
    "    2. `in-place`：直接改变数组，如nums[i]=x; nums[i:j]=y；这些都是直接改变元素组的操作; \n",
    "    3. `O(1) extra space`: 不能另外创建数组，可以创建多个变量，但注意变量所占的空间需要与n无关，需要是一个常数\n",
    "\n",
    "#### 2. 相关知识点（不一定会在本题中直接用上，只是有联想）\n",
    "    `如何删除元素`\n",
    "    1. `del array[index] / del array[index1:index2]` 可以用切片； By far the most efficient\n",
    "    2. `array.pop(index) / array.pop() 等效于 array.pop(-1)` 不能用切片; less efficient\n",
    "    3. `arr[:] = arr[:index] + arr[index+1:]` least efficient；假若此处的`arr[:] = xxxx` 改为 `arr = xxxx` 本质上创建了另外一个变量arr覆盖了原变量，在当前题设中不可行。\n",
    "    \n",
    "#### 3. 翻车点\n",
    "    1. 没考虑特殊情况len(nums)<=1\n",
    "    2. 各种情况导致的`list index out of range`，例如，pointer, i, j 在 `nums[pointer] = nums[j]` 之前进行迭代\n",
    "    3. 其他的各类没理解题目关键词\n",
    "    "
   ]
  },
  {
   "cell_type": "code",
   "execution_count": 12,
   "metadata": {
    "collapsed": true
   },
   "outputs": [],
   "source": [
    "import sys\n",
    "def maxProfit( prices):\n",
    "    \"\"\"\n",
    "    :type prices: List[int]\n",
    "    :rtype: int\n",
    "    \n",
    "    ## 是否考虑负价格\n",
    "    \"\"\"\n",
    "    if len(prices)<=1:\n",
    "        return 0\n",
    "    else:\n",
    "        i = 0\n",
    "        j = 1\n",
    "        profit = 0\n",
    "        max_price = - sys.maxsize - 1\n",
    "        flag = 0 # mark if already buy\n",
    "        while j<len(prices):\n",
    "            if prices[i]>=prices[j] and flag==0:\n",
    "                i=j\n",
    "                j+=1\n",
    "                pass\n",
    "            else:\n",
    "                # already buy\n",
    "                flag = 1\n",
    "                print(i,j)\n",
    "                # 找到第一个左小右大的，开始操作，注意，该操作中，j会进行+1迭代，prices[j+1]的对应值可会比prices[i]还要小\n",
    "                # j往右遍历，\n",
    "                min_price = prices[i]\n",
    "                if prices[j]>max_price:\n",
    "                    max_price = prices[j]\n",
    "                    j+=1\n",
    "                else:\n",
    "                    # sell , 价格开始下落\n",
    "                    profit += max_price - min_price\n",
    "                    max_price = - sys.maxsize - 1 # 复原最大价格\n",
    "                    i=j # 此时j又变成一个新的低谷\n",
    "                    j+=1\n",
    "                    flag=0\n",
    "        \n",
    "        # 一种特殊情况，左小右大的操作中，当j跑到最右端(len)，没机会遇到下一个小的来执行sell操作就已经while循环结束了，此时我们要另外结算一遍。\n",
    "        if prices[i]<prices[j-1]:\n",
    "            profit += prices[j-1] - prices[i]\n",
    "        else:pass    \n",
    "        \n",
    "        return profit"
   ]
  },
  {
   "cell_type": "code",
   "execution_count": 14,
   "metadata": {},
   "outputs": [
    {
     "name": "stdout",
     "output_type": "stream",
     "text": [
      "0 2\n"
     ]
    },
    {
     "data": {
      "text/plain": [
       "1"
      ]
     },
     "execution_count": 14,
     "metadata": {},
     "output_type": "execute_result"
    }
   ],
   "source": [
    "prices = [2,4,1]\n",
    "maxProfit(prices)\n"
   ]
  },
  {
   "cell_type": "code",
   "execution_count": null,
   "metadata": {
    "collapsed": true
   },
   "outputs": [],
   "source": []
  }
 ],
 "metadata": {
  "kernelspec": {
   "display_name": "Python 3",
   "language": "python",
   "name": "python3"
  },
  "language_info": {
   "codemirror_mode": {
    "name": "ipython",
    "version": 3
   },
   "file_extension": ".py",
   "mimetype": "text/x-python",
   "name": "python",
   "nbconvert_exporter": "python",
   "pygments_lexer": "ipython3",
   "version": "3.6.1"
  }
 },
 "nbformat": 4,
 "nbformat_minor": 2
}
