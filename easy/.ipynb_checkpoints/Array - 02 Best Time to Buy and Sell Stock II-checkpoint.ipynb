{
 "cells": [
  {
   "cell_type": "markdown",
   "metadata": {},
   "source": [
    "[Array - 02 Best Time to Buy and Sell Stock II](https://leetcode.com/explore/interview/card/top-interview-questions-easy/92/array/564/)\n",
    "\n",
    "## `Abstract:`\n",
    "Say you have an array for which the ith element is the price of a given stock on day i.\n",
    "\n",
    "Design an algorithm to find the maximum profit. You may complete as many transactions as you like (i.e., buy one and sell one share of the stock multiple times).\n",
    "\n",
    "Note: You may not engage in multiple transactions at the same time (i.e., you must sell the stock before you buy again).\n",
    "\n",
    "## `Solution:`\n",
    "#### 1. 考虑题目关键词\n",
    "    1. buy and sell not at the same time.\n",
    "    \n",
    "\n",
    "#### 2. 相关知识点（不一定会在本题中直接用上，只是有联想）\n",
    "    1. 最大int `sys.maxsize`; 最小int `- sys.maxsize - 1`；最小的，需要额外减1，因为0世纪上算在正数那一边\n",
    "    2. 一般而言，尽量只用一次循环解决问题。甚至一次循环也不需要，参考Array 03.\n",
    "    \n",
    "#### 3. 翻车点\n",
    "    1. 关注最后状态，最后状态不一定符合sell的条件，但是因为结束了，可以卖的话还是卖了，从而实现最大profit。\n",
    "    \n",
    "    "
   ]
  },
  {
   "cell_type": "code",
   "execution_count": 15,
   "metadata": {
    "collapsed": true
   },
   "outputs": [],
   "source": [
    "import sys\n",
    "def maxProfit( prices):\n",
    "    \"\"\"\n",
    "    :type prices: List[int]\n",
    "    :rtype: int\n",
    "    \n",
    "    ## 是否考虑负价格\n",
    "    \"\"\"\n",
    "    if len(prices)<=1:\n",
    "        return 0\n",
    "    else:\n",
    "        i = 0\n",
    "        j = 1\n",
    "        profit = 0\n",
    "        max_price = - sys.maxsize - 1\n",
    "        flag = 0 # mark if already buy\n",
    "        while j<len(prices):\n",
    "            if prices[i]>=prices[j] and flag==0:\n",
    "                i=j\n",
    "                j+=1\n",
    "                pass\n",
    "            else:\n",
    "                # already buy\n",
    "                flag = 1\n",
    "                print(i,j)\n",
    "                # 找到第一个左小右大的，开始操作，注意，该操作中，j会进行+1迭代，prices[j+1]的对应值可会比prices[i]还要小\n",
    "                # j往右遍历，\n",
    "                min_price = prices[i]\n",
    "                if prices[j]>max_price:\n",
    "                    max_price = prices[j]\n",
    "                    j+=1\n",
    "                else:\n",
    "                    # sell , 价格开始下落\n",
    "                    profit += max_price - min_price\n",
    "                    max_price = - sys.maxsize - 1 # 复原最大价格\n",
    "                    i=j # 此时j又变成一个新的低谷\n",
    "                    j+=1\n",
    "                    flag=0\n",
    "\n",
    "        # 一种特殊情况，左小右大的操作中，当j跑到最右端(len)，没机会遇到下一个小的来执行sell操作就已经while循环结束了，此时我们要另外结算一遍。\n",
    "        if prices[i]<prices[j-1]:\n",
    "            profit += prices[j-1] - prices[i]\n",
    "        else:pass    \n",
    "\n",
    "        return profit\n"
   ]
  },
  {
   "cell_type": "code",
   "execution_count": 16,
   "metadata": {},
   "outputs": [
    {
     "name": "stdout",
     "output_type": "stream",
     "text": [
      "0 1\n",
      "0 2\n"
     ]
    },
    {
     "data": {
      "text/plain": [
       "2"
      ]
     },
     "execution_count": 16,
     "metadata": {},
     "output_type": "execute_result"
    }
   ],
   "source": [
    "prices = [2,4,1]\n",
    "maxProfit(prices)\n"
   ]
  },
  {
   "cell_type": "code",
   "execution_count": null,
   "metadata": {
    "collapsed": true
   },
   "outputs": [],
   "source": []
  }
 ],
 "metadata": {
  "kernelspec": {
   "display_name": "Python 3",
   "language": "python",
   "name": "python3"
  },
  "language_info": {
   "codemirror_mode": {
    "name": "ipython",
    "version": 3
   },
   "file_extension": ".py",
   "mimetype": "text/x-python",
   "name": "python",
   "nbconvert_exporter": "python",
   "pygments_lexer": "ipython3",
   "version": "3.6.1"
  }
 },
 "nbformat": 4,
 "nbformat_minor": 2
}
