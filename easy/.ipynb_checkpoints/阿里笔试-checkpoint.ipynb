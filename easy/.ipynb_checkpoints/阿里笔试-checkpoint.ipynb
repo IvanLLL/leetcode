{
 "cells": [
  {
   "cell_type": "markdown",
   "metadata": {},
   "source": [
    "## 笔试题目\n",
    "\n",
    "当时笔试做的时候没有做完，核心思路找到了但是提出的更新公式有点问题，主要在于只加了Distance_2而忘了减去Map(i1,j1)。具体题目见：[Link](https://blog.csdn.net/u012465304/article/details/81180707)。盲写写完，fix了2个小bug，一次跑出正确答案，开心得一批！\n",
    "\n",
    "<pre>\n",
    "<b>\n",
    "输入：\n",
    "N = 3\n",
    "M = 2\n",
    "\n",
    "Map = {\n",
    " {0, 2, 3},\n",
    " {2, 0, 1},\n",
    " {3, 1, 0}\n",
    "}\n",
    "\n",
    "输出：\n",
    "result = {\n",
    " {4, 4, 3},\n",
    " {4, 2, 5},\n",
    " {3, 5, 2}\n",
    "}\n",
    "</b>\n",
    "</pre>\n",
    "\n",
    "\n",
    "\n",
    "更新公式：\n",
    "$$Distance_M(i,j)=Distance_{M-1}(i,j)+\\min_{i1,j1}[(Distance_{2}(i1,j1)) - Map(i1,j1)], (i1,j1)是M-1路径上的任意连续两点$$ \n",
    "\n",
    "先求$Distance_{2}(i,j)$； <br>\n",
    "1. 若`i==j`，则为找到到i最近的点的距离乘2；<br>\n",
    "1. 若`i!=j`，则需要找到$\\min(Map(i,k)+Map(k,j))$\n",
    "\n",
    "\n"
   ]
  },
  {
   "cell_type": "code",
   "execution_count": 22,
   "metadata": {},
   "outputs": [
    {
     "name": "stdout",
     "output_type": "stream",
     "text": [
      "1 loop, best of 3: 13.6 µs per loop\n"
     ]
    }
   ],
   "source": [
    "N = 3\n",
    "M = 2\n",
    "Map = [\n",
    " [0, 2, 3],\n",
    " [2, 0, 1],\n",
    " [3, 1, 0]\n",
    "    ]\n",
    "def Solve(N,M,Map):\n",
    "    dis2_results = [[] for i in range(N)] \n",
    "    dis2_path = [[] for i in range(N)] \n",
    "    \n",
    "\n",
    "    # 求Distance_2\n",
    "    for i in range(N):\n",
    "        for j in range(i+1): # 由对称性，第0行，只遍历0,0；第二行,0，1和1，1；。。。\n",
    "            min_value = 99999999\n",
    "            min_index = None\n",
    "            if i==j:\n",
    "                min_value = min([v for v in Map[i] if v >0]) # 中间节点可以是除了i,j外的任意点；\n",
    "                min_index = Map[i].index(min_value)\n",
    "                min_value *= 2  # 乘以2是因为需要一来一回, 但注意需要在找到index以后再乘\n",
    "                \n",
    "            else:\n",
    "                for k in range(N):\n",
    "                    if k!=i and k!=j:\n",
    "                        d = Map[i][k] + Map[k][j]\n",
    "                        if d<min_value:\n",
    "                            min_value = d\n",
    "                            min_index = k\n",
    "                        else:continue    \n",
    "                    else:continue           \n",
    "            dis2_results[i].append(min_value)\n",
    "            dis2_path[i].append(min_index) #\n",
    "        \n",
    "    results = dis2_results  # M step distance\n",
    "    tmp_path = dis2_path  # M-1 step path\n",
    "    count=2 # start from 2; if M==2, break directly\n",
    "    while count<M:\n",
    "        for i in range(N):\n",
    "            for j in range(i+1): # i>=j\n",
    "                min_value = 99999999\n",
    "                min_index = None\n",
    "                for index,(i1, j1) in enumerate(zip(tmp_path[i][j][:-1], tmp_path[i][j][1:])): # 连续的前后两个\n",
    "                    d = dis2_path[i1][j1] - Map[i1][j1]\n",
    "                    if d<min_value:\n",
    "                        min_value = d\n",
    "                        min_index = [index, i1,j1] \n",
    "                    else:continue\n",
    "                results[i][j] = results[i][j] + min_value\n",
    "                tmp_path[i][j] = tmp_path[i][j][:index+1]+ dis2_path[i][j] + tmp_path[i][j][index+1:]\n",
    "    \n",
    "    # 注意，需要根据对角线性质补齐矩阵\n",
    "    for i in range(N):\n",
    "        for j in range(i+1,N): # j>i Here\n",
    "            results[i].append(results[j][i])\n",
    "    \n",
    "    return results\n",
    "                \n",
    "                \n",
    "%timeit -n 1 Solve(N,M,Map)    "
   ]
  },
  {
   "cell_type": "code",
   "execution_count": null,
   "metadata": {
    "collapsed": true
   },
   "outputs": [],
   "source": []
  }
 ],
 "metadata": {
  "kernelspec": {
   "display_name": "Python 3",
   "language": "python",
   "name": "python3"
  },
  "language_info": {
   "codemirror_mode": {
    "name": "ipython",
    "version": 3
   },
   "file_extension": ".py",
   "mimetype": "text/x-python",
   "name": "python",
   "nbconvert_exporter": "python",
   "pygments_lexer": "ipython3",
   "version": "3.6.1"
  }
 },
 "nbformat": 4,
 "nbformat_minor": 2
}
