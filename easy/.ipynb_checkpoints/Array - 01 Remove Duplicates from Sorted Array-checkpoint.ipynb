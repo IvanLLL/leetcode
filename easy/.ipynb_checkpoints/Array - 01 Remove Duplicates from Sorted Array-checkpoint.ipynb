{
 "cells": [
  {
   "cell_type": "markdown",
   "metadata": {},
   "source": [
    "[Array - 01 Remove Duplicates from Sorted Array](https://leetcode.com/explore/interview/card/top-interview-questions-easy/92/array/727/)\n",
    "\n",
    "## `Abstract:`\n",
    "Given a sorted array nums, remove the duplicates in-place such that each element appear only once and return the new length.\n",
    "\n",
    "Do not allocate extra space for another array, you must do this by modifying the input array in-place with O(1) extra memory.\n",
    "\n",
    "## `Solution:`\n",
    "#### 1. 考虑题目关键词：\n",
    "    1. `sorted array`：相同的数字左右相邻（解题核心）\n",
    "    2. `in-place`：直接改变数组，如nums[i]=x; nums[i:j]=y；这些都是直接改变元素组的操作; \n",
    "    3. `O(1) extra space`: 不能另外创建数组，可以创建多个变量，但注意变量所占的空间需要与n无关，需要是一个常数\n",
    "\n",
    "#### 2. 相关知识点（不一定会在本题中直接用上，只是有联想）\n",
    "    `如何删除元素`\n",
    "    1. `del array[index] / del array[index1:index2]` 可以用切片； By far the most efficient\n",
    "    2. `array.pop(index) / array.pop() 等效于 array.pop(-1)` 不能用切片; less efficient\n",
    "    3. `arr[:] = arr[:index] + arr[index+1:]` least efficient；假若此处的`arr[:] = xxxx` 改为 `arr = xxxx` 本质上创建了另外一个变量arr覆盖了原变量，在当前题设中不可行。\n",
    "    \n",
    "#### 3. 翻车点\n",
    "    1. 没考虑特殊情况len(nums)<=1\n",
    "    2. 各种情况导致的`list index out of range`，例如，pointer, i, j 在 `nums[pointer] = nums[j]` 之前进行迭代\n",
    "    \n",
    "    \n"
   ]
  },
  {
   "cell_type": "code",
   "execution_count": null,
   "metadata": {
    "collapsed": true
   },
   "outputs": [],
   "source": [
    "def removeDuplicates(self, nums):\n",
    "    \"\"\"\n",
    "    :type nums: List[int]\n",
    "    :rtype: int\n",
    "    \"\"\"\n",
    "    if len(nums)<=1:\n",
    "        return len(nums)\n",
    "    else:    \n",
    "        i=0\n",
    "        j=1\n",
    "        pointer = 1 # \n",
    "        while j<len(nums):\n",
    "            if nums[i]==nums[j]:\n",
    "                i+=1\n",
    "                j+=1\n",
    "            else:\n",
    "                nums[pointer] = nums[j]\n",
    "                pointer+=1\n",
    "                i+=1\n",
    "                j+=1\n",
    "            \n",
    "        return pointer"
   ]
  },
  {
   "cell_type": "code",
   "execution_count": 10,
   "metadata": {},
   "outputs": [
    {
     "ename": "IndexError",
     "evalue": "list index out of range",
     "output_type": "error",
     "traceback": [
      "\u001b[0;31m---------------------------------------------------------------------------\u001b[0m",
      "\u001b[0;31mIndexError\u001b[0m                                Traceback (most recent call last)",
      "\u001b[0;32m<ipython-input-10-a97573da09af>\u001b[0m in \u001b[0;36m<module>\u001b[0;34m()\u001b[0m\n\u001b[1;32m      1\u001b[0m \u001b[0marr\u001b[0m \u001b[0;34m=\u001b[0m \u001b[0;34m[\u001b[0m\u001b[0;36m1\u001b[0m\u001b[0;34m,\u001b[0m\u001b[0;36m2\u001b[0m\u001b[0;34m,\u001b[0m\u001b[0;36m3\u001b[0m\u001b[0;34m]\u001b[0m\u001b[0;34m\u001b[0m\u001b[0m\n\u001b[0;32m----> 2\u001b[0;31m \u001b[0marr\u001b[0m\u001b[0;34m[\u001b[0m\u001b[0;36m5\u001b[0m\u001b[0;34m]\u001b[0m\u001b[0;34m\u001b[0m\u001b[0m\n\u001b[0m",
      "\u001b[0;31mIndexError\u001b[0m: list index out of range"
     ]
    }
   ],
   "source": [
    "arr = [1,2,3]\n",
    "arr[5]"
   ]
  },
  {
   "cell_type": "code",
   "execution_count": null,
   "metadata": {
    "collapsed": true
   },
   "outputs": [],
   "source": []
  }
 ],
 "metadata": {
  "kernelspec": {
   "display_name": "Python 3",
   "language": "python",
   "name": "python3"
  },
  "language_info": {
   "codemirror_mode": {
    "name": "ipython",
    "version": 3
   },
   "file_extension": ".py",
   "mimetype": "text/x-python",
   "name": "python",
   "nbconvert_exporter": "python",
   "pygments_lexer": "ipython3",
   "version": "3.6.1"
  }
 },
 "nbformat": 4,
 "nbformat_minor": 2
}
