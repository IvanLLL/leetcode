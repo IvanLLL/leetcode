{
 "cells": [
  {
   "cell_type": "markdown",
   "metadata": {},
   "source": [
    "[Array - 06 Intersection of Two Arrays II](https://leetcode.com/explore/interview/card/top-interview-questions-easy/92/array/674/)\n",
    "\n",
    "## `Abstract:`\n",
    " Given two arrays, write a function to compute their intersection.\n",
    "\n",
    "Example:\n",
    "Given nums1 = [1, 2, 2, 1], nums2 = [2, 2], return [2, 2].\n",
    "\n",
    "Note:\n",
    "\n",
    "    Each element in the result should appear as many times as it shows in both arrays.\n",
    "    The result can be in any order.\n",
    "\n",
    "\n",
    "\n",
    "## `Solution:`\n",
    "#### 1. 考虑题目关键词\n",
    "    1. 没说非空数组，则可能是空的数组。\n",
    "    2. any order\n",
    "#### 2. 相关知识点（不一定会在本题中直接用上，只是有联想）\n",
    "    \n",
    "   ##### ** `defaultdict` **\n",
    "   \n",
    "    Usually, a Python dictionary throws a `KeyError` if you try to get an item with a key that is not currently in the dictionary. The defaultdict in contrast will simply create any items that you try to access (provided of course they do not exist yet). To create such a \"default\" item, it calls the function object that you pass in the constructor (more precisely, it's an arbitrary \"callable\" object, which includes function and type objects). For the first example, default items are created using `int()`, which will return the integer object 0. For the second example, default items are created using `list()`, which returns a new empty list object. \n",
    "   \n",
    "#### 3. 翻车点\n",
    "   \n",
    "    "
   ]
  },
  {
   "cell_type": "code",
   "execution_count": 4,
   "metadata": {
    "collapsed": true
   },
   "outputs": [],
   "source": [
    "## 并非最高效的方法，但是相对而言空间复杂度降低一倍；使用多个dict可以更快。\n",
    "## 使用虚数，比较取巧，节省了另外一个dict的空间。\n",
    "## defaultdict比dict快\n",
    "from collections import defaultdict\n",
    "def intersect( nums1, nums2):\n",
    "    \"\"\"\n",
    "    :type nums1: List[int]\n",
    "    :type nums2: List[int]\n",
    "    :rtype: List[int]\n",
    "    \"\"\"\n",
    "    if len(nums1)==0 or len(nums2)==0:\n",
    "        return []\n",
    "    else:\n",
    "        output = []\n",
    "        # 先遍历short_arr可以减少long_arr遍历过程的一些无用功\n",
    "        if len(nums1)>=len(nums2):\n",
    "            short_arr = nums2\n",
    "            long_arr = nums1\n",
    "        else:\n",
    "            short_arr = nums1\n",
    "            long_arr = nums2\n",
    "            \n",
    "        d = defaultdict(int) # 比dict快\n",
    "        for i in short_arr:\n",
    "            if i in d.keys():\n",
    "                d[i] += 1\n",
    "            else:\n",
    "                d[i] = 1\n",
    "            \n",
    "        for i in long_arr:\n",
    "            if i in d.keys():\n",
    "                d[i]+= 1j\n",
    "            else:pass\n",
    "        \n",
    "        for key,value in d.items():\n",
    "            if type(value)==complex:\n",
    "                times = min(value.real, value.imag)\n",
    "                output += [key] * int(times)\n",
    "            else:pass    \n",
    "        \n",
    "        return output\n",
    "        \n",
    "    "
   ]
  },
  {
   "cell_type": "code",
   "execution_count": 5,
   "metadata": {},
   "outputs": [
    {
     "data": {
      "text/plain": [
       "0.5"
      ]
     },
     "execution_count": 5,
     "metadata": {},
     "output_type": "execute_result"
    }
   ],
   "source": [
    "value=10000.5\n",
    "min(value%10000, value//10000)"
   ]
  },
  {
   "cell_type": "code",
   "execution_count": 23,
   "metadata": {},
   "outputs": [
    {
     "data": {
      "text/plain": [
       "1"
      ]
     },
     "execution_count": 23,
     "metadata": {},
     "output_type": "execute_result"
    }
   ],
   "source": [
    "value = 1+4j\n",
    "times = min(value.real, value.imag)\n",
    "int(times)"
   ]
  },
  {
   "cell_type": "code",
   "execution_count": null,
   "metadata": {
    "collapsed": true
   },
   "outputs": [],
   "source": []
  }
 ],
 "metadata": {
  "kernelspec": {
   "display_name": "Python 3",
   "language": "python",
   "name": "python3"
  },
  "language_info": {
   "codemirror_mode": {
    "name": "ipython",
    "version": 3
   },
   "file_extension": ".py",
   "mimetype": "text/x-python",
   "name": "python",
   "nbconvert_exporter": "python",
   "pygments_lexer": "ipython3",
   "version": "3.6.1"
  }
 },
 "nbformat": 4,
 "nbformat_minor": 2
}
