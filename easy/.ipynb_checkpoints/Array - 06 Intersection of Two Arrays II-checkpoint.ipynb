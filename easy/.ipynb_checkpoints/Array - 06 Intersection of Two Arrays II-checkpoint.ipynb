{
 "cells": [
  {
   "cell_type": "markdown",
   "metadata": {},
   "source": [
    "[Array - 0x XXXXX](https://leetcode.com/explore/interview/card/top-interview-questions-easy/92/array/646/)\n",
    "\n",
    "## `Abstract:`\n",
    "\n",
    "\n",
    "\n",
    "## `Solution:`\n",
    "#### 1. 考虑题目关键词\n",
    "\n",
    "#### 2. 相关知识点（不一定会在本题中直接用上，只是有联想）\n",
    "    \n",
    "#### 3. 翻车点\n",
    "   \n",
    "    "
   ]
  },
  {
   "cell_type": "code",
   "execution_count": 4,
   "metadata": {
    "collapsed": true
   },
   "outputs": [],
   "source": [
    "def rotate( nums, k):\n",
    "        \"\"\"\n",
    "        :type nums: List[int]\n",
    "        :type k: int\n",
    "        :rtype: void Do not return anything, modify nums in-place instead.\n",
    "        \"\"\"\n",
    "        "
   ]
  }
 ],
 "metadata": {
  "kernelspec": {
   "display_name": "Python 3",
   "language": "python",
   "name": "python3"
  },
  "language_info": {
   "codemirror_mode": {
    "name": "ipython",
    "version": 3
   },
   "file_extension": ".py",
   "mimetype": "text/x-python",
   "name": "python",
   "nbconvert_exporter": "python",
   "pygments_lexer": "ipython3",
   "version": "3.6.1"
  }
 },
 "nbformat": 4,
 "nbformat_minor": 2
}
