{
 "cells": [
  {
   "cell_type": "markdown",
   "metadata": {},
   "source": [
    "## 笔试题目\n",
    "\n",
    "当时笔试做的时候没有做完，核心思路找到了但是提出的更新公式有点问题，主要在于只加了Distance_2而忘了减去Map(i1,j1)。具体题目见：[Link](https://blog.csdn.net/u012465304/article/details/81180707)。盲写写完，fix了2个小bug，一次跑出正确答案，开心得一批！\n",
    "\n",
    "<pre>\n",
    "<b>\n",
    "输入：\n",
    "N = 3\n",
    "M = 2\n",
    "\n",
    "Map = {\n",
    " {0, 2, 3},\n",
    " {2, 0, 1},\n",
    " {3, 1, 0}\n",
    "}\n",
    "\n",
    "输出：\n",
    "result = {\n",
    " {4, 4, 3},\n",
    " {4, 2, 5},\n",
    " {3, 5, 2}\n",
    "}\n",
    "</b>\n",
    "</pre>\n",
    "\n",
    "\n",
    "\n",
    "更新公式：\n",
    "$$Distance_M(i,j)=Distance_{M-1}(i,j)+\\min_{i1,j1}[(Distance_{2}(i1,j1)) - Map(i1,j1)], (i1,j1)是M-1路径上的任意连续两点$$ \n",
    "\n",
    "先求$Distance_{2}(i,j)$； <br>\n",
    "1. 若`i==j`，则为找到到i最近的点的距离乘2；<br>\n",
    "1. 若`i!=j`，则需要找到$\\min(Map(i,k)+Map(k,j))$\n",
    "\n",
    "\n"
   ]
  },
  {
   "cell_type": "code",
   "execution_count": 22,
   "metadata": {},
   "outputs": [
    {
     "name": "stdout",
     "output_type": "stream",
     "text": [
      "1 loop, best of 3: 13.6 µs per loop\n"
     ]
    }
   ],
   "source": [
    "N = 3\n",
    "M = 2\n",
    "Map = [\n",
    " [0, 2, 3],\n",
    " [2, 0, 1],\n",
    " [3, 1, 0]\n",
    "    ]\n",
    "def Solve(N,M,Map):\n",
    "    dis2_results = [[] for i in range(N)] \n",
    "    dis2_path = [[] for i in range(N)] \n",
    "    \n",
    "\n",
    "    # 求Distance_2\n",
    "    for i in range(N):\n",
    "        for j in range(i+1): # 由对称性，第0行，只遍历0,0；第二行,0，1和1，1；。。。\n",
    "            min_value = 99999999\n",
    "            min_index = None\n",
    "            if i==j:\n",
    "                min_value = min([v for v in Map[i] if v >0]) # 中间节点可以是除了i,j外的任意点；\n",
    "                min_index = Map[i].index(min_value)\n",
    "                min_value *= 2  # 乘以2是因为需要一来一回, 但注意需要在找到index以后再乘\n",
    "                \n",
    "            else:\n",
    "                for k in range(N):\n",
    "                    if k!=i and k!=j:\n",
    "                        d = Map[i][k] + Map[k][j]\n",
    "                        if d<min_value:\n",
    "                            min_value = d\n",
    "                            min_index = k\n",
    "                        else:continue    \n",
    "                    else:continue           \n",
    "            dis2_results[i].append(min_value)\n",
    "            dis2_path[i].append(min_index) #\n",
    "        \n",
    "    results = dis2_results  # M step distance\n",
    "    tmp_path = dis2_path  # M-1 step path\n",
    "    count=2 # start from 2; if M==2, break directly\n",
    "    while count<M:\n",
    "        for i in range(N):\n",
    "            for j in range(i+1): # i>=j\n",
    "                min_value = 99999999\n",
    "                min_index = None\n",
    "                for index,(i1, j1) in enumerate(zip(tmp_path[i][j][:-1], tmp_path[i][j][1:])): # 连续的前后两个\n",
    "                    d = dis2_path[i1][j1] - Map[i1][j1]\n",
    "                    if d<min_value:\n",
    "                        min_value = d\n",
    "                        min_index = [index, i1,j1] \n",
    "                    else:continue\n",
    "                results[i][j] = results[i][j] + min_value\n",
    "                tmp_path[i][j] = tmp_path[i][j][:index+1]+ dis2_path[i][j] + tmp_path[i][j][index+1:]\n",
    "    \n",
    "    # 注意，需要根据对角线性质补齐矩阵\n",
    "    for i in range(N):\n",
    "        for j in range(i+1,N): # j>i Here\n",
    "            results[i].append(results[j][i])\n",
    "    \n",
    "    return results\n",
    "                \n",
    "                \n",
    "%timeit -n 1 Solve(N,M,Map)    "
   ]
  },
  {
   "cell_type": "code",
   "execution_count": 12,
   "metadata": {},
   "outputs": [
    {
     "name": "stdout",
     "output_type": "stream",
     "text": [
      "(1, -1, -1)\n"
     ]
    }
   ],
   "source": [
    "def solve(str):\n",
    "    if len(str)<=1:\n",
    "        return(str)\n",
    "    else:\n",
    "        start_index = -1\n",
    "        end_index = -1\n",
    "        max_length = 1\n",
    "         \n",
    "        length = len(str)\n",
    "\n",
    "        for i in range(length):\n",
    "            current_substr = set() # save all char in the current substr\n",
    "            current_substr.update(str[i]) \n",
    "            current_length = 1\n",
    "            current_start_index= i\n",
    "            for j in range(i, length):\n",
    "                if str[j] not in current_substr:\n",
    "                    current_substr.update(str[j])\n",
    "                    current_length+=1\n",
    "                    if j == length-1:\n",
    "                        current_end_index = j\n",
    "                        if current_length>max_length:\n",
    "                            max_length = current_length\n",
    "                            start_index = current_start_index\n",
    "                            end_index = current_end_index\n",
    "                        else:break  \n",
    "                else:\n",
    "                    current_end_index = j-1\n",
    "                    \n",
    "                    if current_length>max_length:\n",
    "                        max_length = current_length\n",
    "                        start_index = current_start_index\n",
    "                        end_index = current_end_index\n",
    "                    else:break    \n",
    "        \n",
    "        return max_length, start_index, end_index\n",
    "\n",
    "print(solve('abcabcbb'))   "
   ]
  },
  {
   "cell_type": "code",
   "execution_count": 52,
   "metadata": {},
   "outputs": [
    {
     "name": "stdout",
     "output_type": "stream",
     "text": [
      "1\n",
      "3\n",
      "3\n"
     ]
    }
   ],
   "source": [
    "\n",
    "# 连续； 不含重复字符； 边界\n",
    "\n",
    "def solve(str):\n",
    "\n",
    "    '''\n",
    "        str <String>: 指定字符串\n",
    "        \n",
    "        Return:\n",
    "            max_length <Int>: 最大的不含重复字符的最长子串的长度 \n",
    "    '''\n",
    "    \n",
    "    if len(str)<=1:\n",
    "        return(str)\n",
    "    else:\n",
    "        start_index = -1\n",
    "        end_index = -1\n",
    "        max_length = 1\n",
    "         \n",
    "        length = len(str)\n",
    "        \n",
    "        # 两层循环\n",
    "#        for i in range(length):\n",
    "#            current_substr = set() # save all char in the current substr\n",
    "#            current_substr.update(str[i]) \n",
    "#            current_length = 1\n",
    "#            current_start_index= i\n",
    "#            for j in range(i+1, length): \n",
    "#                if str[j] not in current_substr:\n",
    "#                    current_substr.update(str[j])\n",
    "#                    current_length+=1\n",
    "#                    if j == length-1: # 考虑边界\n",
    "#                        current_end_index = j\n",
    "#                        if current_length>max_length:\n",
    "#                            max_length = current_length\n",
    "#                            start_index = current_start_index\n",
    "#                            end_index = current_end_index\n",
    "#                        else:pass    \n",
    "#                        break # 跳出j层循环\n",
    "#                else:\n",
    "#                    current_end_index = j-1\n",
    "#                    if current_length>max_length:\n",
    "#                        max_length = current_length\n",
    "#                        start_index = current_start_index\n",
    "#                        end_index = current_end_index\n",
    "#                    else:pass    \n",
    "#                    break # 跳出j层循环\n",
    "        # 一层循环\n",
    "        # 遇到重复的，比较最大，从前面重复的部分截断，并减去相应长度变化; 则重复则持续加1；\n",
    "        current_substr = set() # save all char in the current substr\n",
    "        start_index = 0\n",
    "        current_length = 0\n",
    "        for i in range(length):\n",
    "            if str[i] in current_substr:\n",
    "                index = str.index(str[i])\n",
    "                str = str[:index] + '_' + str[index+1:] # 有除了'_'别的更好的替换\n",
    "                if current_length>max_length:\n",
    "                    max_length = current_length\n",
    "                current_length = current_length - (index+1-start_index) + 1\n",
    "                for j in range(start_index, index):\n",
    "                    current_substr.remove(str[j])\n",
    "                start_index = index+1\n",
    "            else:\n",
    "                current_substr.update(str[i]) \n",
    "                current_length+=1\n",
    "                if i==length-1:\n",
    "                    if current_length>max_length:\n",
    "                        max_length = current_length\n",
    "                    else:pass    \n",
    "        \n",
    "        return max_length\n",
    "\n",
    "# TestCase\n",
    "for str in ['aaaa','abcabcbb', 'pwwkew']:\n",
    "    print(solve(str))\n",
    "            \n"
   ]
  },
  {
   "cell_type": "code",
   "execution_count": 25,
   "metadata": {},
   "outputs": [
    {
     "data": {
      "text/plain": [
       "False"
      ]
     },
     "execution_count": 25,
     "metadata": {},
     "output_type": "execute_result"
    }
   ],
   "source": [
    "'a' not in set(['a'])"
   ]
  },
  {
   "cell_type": "code",
   "execution_count": null,
   "metadata": {
    "collapsed": true
   },
   "outputs": [],
   "source": []
  }
 ],
 "metadata": {
  "kernelspec": {
   "display_name": "Python 3",
   "language": "python",
   "name": "python3"
  },
  "language_info": {
   "codemirror_mode": {
    "name": "ipython",
    "version": 3
   },
   "file_extension": ".py",
   "mimetype": "text/x-python",
   "name": "python",
   "nbconvert_exporter": "python",
   "pygments_lexer": "ipython3",
   "version": "3.6.1"
  }
 },
 "nbformat": 4,
 "nbformat_minor": 2
}
