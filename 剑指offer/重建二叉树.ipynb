{
 "cells": [
  {
   "cell_type": "code",
   "execution_count": 1,
   "metadata": {
    "collapsed": true
   },
   "outputs": [],
   "source": [
    "# -*- coding:utf-8 -*-\n",
    "\n",
    "class TreeNode:\n",
    "    def __init__(self, x):\n",
    "        self.val = x\n",
    "        self.left = None\n",
    "        self.right = None\n",
    "\n",
    "\n",
    "class Solution:\n",
    "    # 返回构造的TreeNode根节点\n",
    "    def reConstructBinaryTree(self, pre, tin):\n",
    "        root_val = pre[0]\n",
    "        root_index_of_tin = tin.index(root_val)\n",
    "        if len(tin)==1:\n",
    "            return TreeNode(root_val)\n",
    "        elif root_index_of_tin==0 and len(tin)!=1:\n",
    "            this_tree = TreeNode(root_val)\n",
    "            this_tree.right = self.reConstructBinaryTree(pre[1:],tin[1:])\n",
    "            return this_tree\n",
    "        elif root_index_of_tin==len(tin)-1 and len(tin)!=1:\n",
    "            this_tree = TreeNode(root_val)\n",
    "            this_tree.left = self.reConstructBinaryTree(pre[1:],tin[:-1])\n",
    "            return this_tree\n",
    "        else:\n",
    "            tmp_left_tin = tin[:root_index_of_tin]\n",
    "            min_i = -1\n",
    "            border_of_pre = None\n",
    "            for v in tmp_left_tin:\n",
    "                this_i = pre.index(v)\n",
    "                if this_i > min_i:\n",
    "                    min_i = this_i\n",
    "                else:pass\n",
    "            this_tree = TreeNode(root_val)\n",
    "            this_tree.left = self.reConstructBinaryTree(pre[1:min_i+1], tin[:root_index_of_tin])\n",
    "            this_tree.right = self.reConstructBinaryTree(pre[min_i+1:], tin[root_index_of_tin+1:])\n",
    "            return this_tree\n",
    "\n",
    "\n",
    "\n",
    "\n"
   ]
  },
  {
   "cell_type": "code",
   "execution_count": 2,
   "metadata": {
    "collapsed": true
   },
   "outputs": [],
   "source": [
    "        \n",
    "pre = [1,2,4,7,3,5,6,8]\n",
    "tin = [4,7,2,1,5,3,8,6]\n",
    "    \n",
    "s = Solution()\n",
    "tree = s.reConstructBinaryTree(pre,tin)"
   ]
  },
  {
   "cell_type": "code",
   "execution_count": 4,
   "metadata": {},
   "outputs": [
    {
     "data": {
      "text/plain": [
       "7"
      ]
     },
     "execution_count": 4,
     "metadata": {},
     "output_type": "execute_result"
    }
   ],
   "source": [
    "tree.left.left.right.val"
   ]
  },
  {
   "cell_type": "code",
   "execution_count": null,
   "metadata": {
    "collapsed": true
   },
   "outputs": [],
   "source": []
  }
 ],
 "metadata": {
  "kernelspec": {
   "display_name": "Python 3",
   "language": "python",
   "name": "python3"
  },
  "language_info": {
   "codemirror_mode": {
    "name": "ipython",
    "version": 3
   },
   "file_extension": ".py",
   "mimetype": "text/x-python",
   "name": "python",
   "nbconvert_exporter": "python",
   "pygments_lexer": "ipython3",
   "version": "3.6.1"
  }
 },
 "nbformat": 4,
 "nbformat_minor": 2
}
