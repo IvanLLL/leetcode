{
 "cells": [
  {
   "cell_type": "markdown",
   "metadata": {},
   "source": [
    "# Linux \n"
   ]
  },
  {
   "cell_type": "markdown",
   "metadata": {},
   "source": [
    "## `系统路径文档`\n",
    "`~/.bashrc` or `~/.bash_profile`\n",
    "\n",
    "#### ~/.bash_profile\n",
    "       The personal initialization file, executed for login shells\n",
    "#### ~/.bashrc\n",
    "       The individual per-interactive-shell startup file\n",
    "\n",
    "\n",
    "修改完后可以执行 `source ~/.bashrc` or `source ~/.bash_profile`进行刷新。"
   ]
  },
  {
   "cell_type": "code",
   "execution_count": null,
   "metadata": {
    "collapsed": true
   },
   "outputs": [],
   "source": []
  }
 ],
 "metadata": {
  "kernelspec": {
   "display_name": "Python 3",
   "language": "python",
   "name": "python3"
  },
  "language_info": {
   "codemirror_mode": {
    "name": "ipython",
    "version": 3
   },
   "file_extension": ".py",
   "mimetype": "text/x-python",
   "name": "python",
   "nbconvert_exporter": "python",
   "pygments_lexer": "ipython3",
   "version": "3.6.1"
  }
 },
 "nbformat": 4,
 "nbformat_minor": 2
}
