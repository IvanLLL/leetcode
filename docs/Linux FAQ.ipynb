{
 "cells": [
  {
   "cell_type": "markdown",
   "metadata": {},
   "source": [
    "# Linux \n"
   ]
  },
  {
   "cell_type": "markdown",
   "metadata": {},
   "source": [
    "## `系统路径文档`\n",
    "`~/.bashrc` or `~/.bash_profile`\n",
    "\n",
    "#### ~/.bash_profile\n",
    "       The personal initialization file, executed for login shells\n",
    "#### ~/.bashrc\n",
    "       The individual per-interactive-shell startup file\n",
    "\n",
    "\n",
    "修改完后可以执行 `source ~/.bashrc` or `source ~/.bash_profile`进行刷新。"
   ]
  },
  {
   "cell_type": "markdown",
   "metadata": {
    "collapsed": true
   },
   "source": [
    "## `远程服务器后台跑程序`\n",
    "可以使用`nohup` or `screen`等指令。此处使用`nohup`\n",
    "\n",
    "#### `In:   nohup mycommand & `\n",
    "此处&代表将mycommand在后台运行\n",
    "\n",
    "#### `Out:   [1] 25132 `\n",
    "[a]代表task序号，后面代表process ID（PID），若想中断该程序，可以使用：\n",
    "\n",
    "\n",
    "#### `kill -9 25132` \n",
    "所有pid都可以使用这种方法删除进程，包括nvidia-smi呈现的pid\n"
   ]
  },
  {
   "cell_type": "code",
   "execution_count": null,
   "metadata": {
    "collapsed": true
   },
   "outputs": [],
   "source": []
  }
 ],
 "metadata": {
  "kernelspec": {
   "display_name": "Python 3",
   "language": "python",
   "name": "python3"
  },
  "language_info": {
   "codemirror_mode": {
    "name": "ipython",
    "version": 3
   },
   "file_extension": ".py",
   "mimetype": "text/x-python",
   "name": "python",
   "nbconvert_exporter": "python",
   "pygments_lexer": "ipython3",
   "version": "3.6.1"
  }
 },
 "nbformat": 4,
 "nbformat_minor": 2
}
