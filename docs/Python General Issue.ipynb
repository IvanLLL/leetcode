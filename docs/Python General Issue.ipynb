{
 "cells": [
  {
   "cell_type": "markdown",
   "metadata": {},
   "source": [
    "# Array\n"
   ]
  },
  {
   "cell_type": "code",
   "execution_count": 19,
   "metadata": {},
   "outputs": [
    {
     "name": "stdout",
     "output_type": "stream",
     "text": [
      "[1, 1, 1, 2, 2, 3, 3, 4]\n",
      "[1, 1, 1, 2, 2, 3, 3, 4, 0]\n",
      "hi\n",
      "hi\n",
      "hi\n",
      "hi\n"
     ]
    },
    {
     "data": {
      "text/plain": [
       "[0, 1, 2, 3, 4]"
      ]
     },
     "execution_count": 19,
     "metadata": {},
     "output_type": "execute_result"
    }
   ],
   "source": [
    "def removeDuplicates(nums):\n",
    "        \"\"\"\n",
    "        :type nums: List[int]\n",
    "        :rtype: int\n",
    "        \"\"\"\n",
    "        start=nums[0]\n",
    "        flag = 0\n",
    "        # for i in nums:\n",
    "        #     try:\n",
    "        #         nums.remove(i)\n",
    "        #         nums.push()\n",
    "        #     except:\n",
    "        #         pass\n",
    "        while True:\n",
    "            \n",
    "            if nums[0]==start:\n",
    "                \n",
    "                if flag==0:\n",
    "                    flag=1\n",
    "                    this_ele = nums[0]\n",
    "                    while True:\n",
    "                        try:\n",
    "                            nums.remove(this_ele)\n",
    "                        except:\n",
    "                            break\n",
    "                    print(nums)\n",
    "                    nums.append(this_ele)    \n",
    "                    print(nums)\n",
    "                else:    \n",
    "                    break\n",
    "            else:\n",
    "                print('hi')\n",
    "                this_ele = nums[0]\n",
    "                while True:\n",
    "                    try:\n",
    "                        nums.remove(this_ele)\n",
    "                    except:\n",
    "                        break\n",
    "                nums.append(this_ele)      \n",
    "        \n",
    "        return len(nums)\n",
    "    \n",
    "arr = [0,0,1,1,1,2,2,3,3,4]\n",
    "removeDuplicates(arr)\n",
    "arr"
   ]
  },
  {
   "cell_type": "code",
   "execution_count": 21,
   "metadata": {},
   "outputs": [
    {
     "data": {
      "text/plain": [
       "[5, 1, 2]"
      ]
     },
     "execution_count": 21,
     "metadata": {},
     "output_type": "execute_result"
    }
   ],
   "source": [
    "arr1 = [5,1,2]\n",
    "sorted(arr1)\n",
    "arr1"
   ]
  },
  {
   "cell_type": "code",
   "execution_count": null,
   "metadata": {
    "collapsed": true
   },
   "outputs": [],
   "source": []
  },
  {
   "cell_type": "code",
   "execution_count": null,
   "metadata": {
    "collapsed": true
   },
   "outputs": [],
   "source": []
  },
  {
   "cell_type": "code",
   "execution_count": null,
   "metadata": {
    "collapsed": true
   },
   "outputs": [],
   "source": []
  }
 ],
 "metadata": {
  "kernelspec": {
   "display_name": "Python 3",
   "language": "python",
   "name": "python3"
  },
  "language_info": {
   "codemirror_mode": {
    "name": "ipython",
    "version": 3
   },
   "file_extension": ".py",
   "mimetype": "text/x-python",
   "name": "python",
   "nbconvert_exporter": "python",
   "pygments_lexer": "ipython3",
   "version": "3.6.1"
  }
 },
 "nbformat": 4,
 "nbformat_minor": 2
}
