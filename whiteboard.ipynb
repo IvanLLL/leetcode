{
 "cells": [
  {
   "cell_type": "code",
   "execution_count": 8,
   "metadata": {},
   "outputs": [
    {
     "data": {
      "text/plain": [
       "[]"
      ]
     },
     "execution_count": 8,
     "metadata": {},
     "output_type": "execute_result"
    }
   ],
   "source": [
    "arr = []\n",
    "\n",
    "# arr = sorted(arr, key=abs, reverse=True)\n",
    "# arr = arr[::-1]\n",
    "# arr.reverse()\n",
    "arr"
   ]
  },
  {
   "cell_type": "code",
   "execution_count": 9,
   "metadata": {},
   "outputs": [
    {
     "ename": "IndexError",
     "evalue": "list index out of range",
     "output_type": "error",
     "traceback": [
      "\u001b[0;31m---------------------------------------------------------------------------\u001b[0m",
      "\u001b[0;31mIndexError\u001b[0m                                Traceback (most recent call last)",
      "\u001b[0;32m<ipython-input-9-2794244b15b3>\u001b[0m in \u001b[0;36m<module>\u001b[0;34m()\u001b[0m\n\u001b[1;32m     20\u001b[0m     \u001b[0;32mreturn\u001b[0m \u001b[0;32mFalse\u001b[0m\u001b[0;34m\u001b[0m\u001b[0m\n\u001b[1;32m     21\u001b[0m \u001b[0;34m\u001b[0m\u001b[0m\n\u001b[0;32m---> 22\u001b[0;31m \u001b[0mFind\u001b[0m\u001b[0;34m(\u001b[0m\u001b[0;36m16\u001b[0m\u001b[0;34m,\u001b[0m\u001b[0;34m[\u001b[0m\u001b[0;34m[\u001b[0m\u001b[0;34m]\u001b[0m\u001b[0;34m]\u001b[0m\u001b[0;34m)\u001b[0m\u001b[0;34m\u001b[0m\u001b[0m\n\u001b[0m",
      "\u001b[0;32m<ipython-input-9-2794244b15b3>\u001b[0m in \u001b[0;36mFind\u001b[0;34m(target, array)\u001b[0m\n\u001b[1;32m      7\u001b[0m      \u001b[0;31m# to break inner loop\u001b[0m\u001b[0;34m\u001b[0m\u001b[0;34m\u001b[0m\u001b[0m\n\u001b[1;32m      8\u001b[0m     \u001b[0;32mfor\u001b[0m \u001b[0marr\u001b[0m \u001b[0;32min\u001b[0m \u001b[0marray\u001b[0m\u001b[0;34m:\u001b[0m\u001b[0;34m\u001b[0m\u001b[0m\n\u001b[0;32m----> 9\u001b[0;31m         \u001b[0;32mif\u001b[0m \u001b[0marr\u001b[0m\u001b[0;34m[\u001b[0m\u001b[0;36m0\u001b[0m\u001b[0;34m]\u001b[0m\u001b[0;34m>\u001b[0m\u001b[0mtarget\u001b[0m\u001b[0;34m:\u001b[0m\u001b[0;34m\u001b[0m\u001b[0m\n\u001b[0m\u001b[1;32m     10\u001b[0m             \u001b[0;32mcontinue\u001b[0m\u001b[0;34m\u001b[0m\u001b[0m\n\u001b[1;32m     11\u001b[0m         \u001b[0;32melse\u001b[0m\u001b[0;34m:\u001b[0m\u001b[0;32mpass\u001b[0m\u001b[0;34m\u001b[0m\u001b[0m\n",
      "\u001b[0;31mIndexError\u001b[0m: list index out of range"
     ]
    }
   ],
   "source": [
    "# -*- coding:utf-8 -*-\n",
    "# array 二维列表\n",
    "def Find(target, array):\n",
    "    # write code here\n",
    "    \n",
    "    array = array[::-1]\n",
    "     # to break inner loop\n",
    "    for arr in array:\n",
    "        if len(arr)==0:\n",
    "            continue\n",
    "        else:    \n",
    "            if arr[0]>target:\n",
    "                continue\n",
    "            else:pass\n",
    "\n",
    "            for i in arr:\n",
    "                if i<target:\n",
    "                    pass\n",
    "                elif i==target:\n",
    "                    return True\n",
    "                else:\n",
    "                    break\n",
    "    return False\n",
    "\n",
    "Find(16,[[]])      "
   ]
  },
  {
   "cell_type": "code",
   "execution_count": 12,
   "metadata": {},
   "outputs": [
    {
     "data": {
      "text/plain": [
       "3"
      ]
     },
     "execution_count": 12,
     "metadata": {},
     "output_type": "execute_result"
    }
   ],
   "source": [
    "arr=[1,2,3,4]\n",
    "arr.index(4)"
   ]
  },
  {
   "cell_type": "code",
   "execution_count": 36,
   "metadata": {},
   "outputs": [],
   "source": [
    "# -*- coding:utf-8 -*-\n",
    "\n",
    "class TreeNode:\n",
    "    def __init__(self, x):\n",
    "        self.val = x\n",
    "        self.left = None\n",
    "        self.right = None\n",
    "\n",
    "\n",
    "class Solution:\n",
    "    # 返回构造的TreeNode根节点\n",
    "    def reConstructBinaryTree(self, pre, tin):\n",
    "        root_val = pre[0]\n",
    "        root_index_of_tin = tin.index(root_val)\n",
    "        if len(tin)==1:\n",
    "            return TreeNode(root_val)\n",
    "        elif root_index_of_tin==0 and len(tin)!=1:\n",
    "            this_tree = TreeNode(root_val)\n",
    "            this_tree.right = self.reConstructBinaryTree(pre[1:],tin[1:])\n",
    "            return this_tree\n",
    "        elif root_index_of_tin==len(tin)-1 and len(tin)!=1:\n",
    "            this_tree = TreeNode(root_val)\n",
    "            this_tree.left = self.reConstructBinaryTree(pre[1:],tin[:-1])\n",
    "            return this_tree\n",
    "        else:\n",
    "            tmp_left_tin = tin[:root_index_of_tin]\n",
    "            min_i = -1\n",
    "            border_of_pre = None\n",
    "            for v in tmp_left_tin:\n",
    "                this_i = pre.index(v)\n",
    "                if this_i > min_i:\n",
    "                    min_i = this_i\n",
    "                else:pass\n",
    "            this_tree = TreeNode(root_val)\n",
    "            this_tree.left = self.reConstructBinaryTree(pre[1:min_i+1], tin[:root_index_of_tin])\n",
    "            this_tree.right = self.reConstructBinaryTree(pre[min_i+1:], tin[root_index_of_tin+1:])\n",
    "            return this_tree\n",
    "        \n",
    "pre = [1,2,4,7,3,5,6,8]\n",
    "tin = [4,7,2,1,5,3,8,6]\n",
    "    \n",
    "s = Solution()\n",
    "tree = s.reConstructBinaryTree(pre,tin)\n",
    "\n",
    "\n",
    "\n"
   ]
  },
  {
   "cell_type": "code",
   "execution_count": 37,
   "metadata": {},
   "outputs": [
    {
     "data": {
      "text/plain": [
       "5"
      ]
     },
     "execution_count": 37,
     "metadata": {},
     "output_type": "execute_result"
    }
   ],
   "source": [
    "tree.right.left.val\n"
   ]
  },
  {
   "cell_type": "code",
   "execution_count": null,
   "metadata": {
    "collapsed": true
   },
   "outputs": [],
   "source": []
  }
 ],
 "metadata": {
  "kernelspec": {
   "display_name": "Python 3",
   "language": "python",
   "name": "python3"
  },
  "language_info": {
   "codemirror_mode": {
    "name": "ipython",
    "version": 3
   },
   "file_extension": ".py",
   "mimetype": "text/x-python",
   "name": "python",
   "nbconvert_exporter": "python",
   "pygments_lexer": "ipython3",
   "version": "3.6.1"
  }
 },
 "nbformat": 4,
 "nbformat_minor": 2
}
